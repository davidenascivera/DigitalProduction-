{
 "cells": [
  {
   "cell_type": "code",
   "execution_count": 17,
   "metadata": {},
   "outputs": [
    {
     "name": "stdout",
     "output_type": "stream",
     "text": [
      "[[76, 270, 224, 159, 241, 329], [19], [252, 75], [89], [6], [182, 179, 276, 208], [289, 3, 322, 284, 252], [146, 204, 61, 223, 96, 269], [22, 88, 265, 315], [264, 334, 179, 212, 261], [291, 287], [28, 233, 297, 83, 128, 145], [56], [237, 275, 80, 21], [111]]\n",
      "[1.0, 1.0, 1.0, 1.0, 1.0, 1.0, 1.0, 1.0, 9.0, 9.0, 9.0, 9.0, 9.0, 9.0, 9.0, 9.0, 11.0, 11.0, 11.0, 11.0, 11.0, 11.0, 11.0, 11.0, 19.0, 19.0, 19.0, 19.0, 19.0, 19.0, 19.0, 19.0, 21.0, 21.0, 21.0, 21.0, 21.0, 21.0, 21.0, 21.0, 29.0, 29.0, 29.0, 29.0, 29.0, 29.0, 29.0, 29.0, 31.0, 31.0, 31.0, 31.0, 31.0, 31.0, 31.0, 31.0, 39.0, 39.0, 39.0, 39.0, 39.0, 39.0, 39.0, 39.0, 41.0, 41.0, 41.0, 41.0, 41.0, 41.0, 41.0, 41.0, 49.0, 49.0, 49.0, 49.0, 49.0, 49.0, 49.0, 49.0, 51.0, 51.0, 51.0, 51.0, 51.0, 51.0, 51.0, 51.0, 59.0, 59.0, 59.0, 59.0, 59.0, 59.0, 59.0, 59.0, 61.0, 61.0, 61.0, 61.0, 61.0, 61.0, 61.0, 61.0, 69.0, 69.0, 69.0, 69.0, 69.0, 69.0, 69.0, 69.0, 1.0, 1.0, 1.0, 1.0, 1.0, 1.0, 1.0, 1.0, 9.0, 9.0, 9.0, 9.0, 9.0, 9.0, 9.0, 9.0, 11.0, 11.0, 11.0, 11.0, 11.0, 11.0, 11.0, 11.0, 19.0, 19.0, 19.0, 19.0, 19.0, 19.0, 19.0, 19.0, 21.0, 21.0, 21.0, 21.0, 21.0, 21.0, 21.0, 21.0, 29.0, 29.0, 29.0, 29.0, 29.0, 29.0, 29.0, 29.0, 31.0, 31.0, 31.0, 31.0, 31.0, 31.0, 31.0, 31.0, 39.0, 39.0, 39.0, 39.0, 39.0, 39.0, 39.0, 39.0, 41.0, 41.0, 41.0, 41.0, 41.0, 41.0, 41.0, 41.0, 49.0, 49.0, 49.0, 49.0, 49.0, 49.0, 49.0, 49.0, 51.0, 51.0, 51.0, 51.0, 51.0, 51.0, 51.0, 51.0, 59.0, 59.0, 59.0, 59.0, 59.0, 59.0, 59.0, 59.0, 61.0, 61.0, 61.0, 61.0, 61.0, 61.0, 61.0, 61.0, 69.0, 69.0, 69.0, 69.0, 69.0, 69.0, 69.0, 69.0, 1.0, 1.0, 1.0, 1.0, 1.0, 1.0, 1.0, 1.0, 9.0, 9.0, 9.0, 9.0, 9.0, 9.0, 9.0, 9.0, 11.0, 11.0, 11.0, 11.0, 11.0, 11.0, 11.0, 11.0, 19.0, 19.0, 19.0, 19.0, 19.0, 19.0, 19.0, 19.0, 21.0, 21.0, 21.0, 21.0, 21.0, 21.0, 21.0, 21.0, 29.0, 29.0, 29.0, 29.0, 29.0, 29.0, 29.0, 29.0, 31.0, 31.0, 31.0, 31.0, 31.0, 31.0, 31.0, 31.0, 39.0, 39.0, 39.0, 39.0, 39.0, 39.0, 39.0, 39.0, 41.0, 41.0, 41.0, 41.0, 41.0, 41.0, 41.0, 41.0, 49.0, 49.0, 49.0, 49.0, 49.0, 49.0, 49.0, 49.0, 51.0, 51.0, 51.0, 51.0, 51.0, 51.0, 51.0, 51.0, 59.0, 59.0, 59.0, 59.0, 59.0, 59.0, 59.0, 59.0, 61.0, 61.0, 61.0, 61.0, 61.0, 61.0, 61.0, 61.0, 69.0, 69.0, 69.0, 69.0, 69.0, 69.0, 69.0, 69.0]\n",
      "[3.5, 6.5, 9.5, 12.5, 15.5, 18.5, 21.5, 24.5, 3.5, 6.5, 9.5, 12.5, 15.5, 18.5, 21.5, 24.5, 27.5, 30.5, 33.5, 36.5, 39.5, 42.5, 45.5, 48.5, 3.5, 6.5, 9.5, 12.5, 15.5, 18.5, 21.5, 24.5, 27.5, 30.5, 33.5, 36.5, 39.5, 42.5, 45.5, 48.5, 3.5, 6.5, 9.5, 12.5, 15.5, 18.5, 21.5, 24.5, 27.5, 30.5, 33.5, 36.5, 39.5, 42.5, 45.5, 48.5, 3.5, 6.5, 9.5, 12.5, 15.5, 18.5, 21.5, 24.5, 27.5, 30.5, 33.5, 36.5, 39.5, 42.5, 45.5, 48.5, 3.5, 6.5, 9.5, 12.5, 15.5, 18.5, 21.5, 24.5, 27.5, 30.5, 33.5, 36.5, 39.5, 42.5, 45.5, 48.5, 3.5, 6.5, 9.5, 12.5, 15.5, 18.5, 21.5, 24.5, 27.5, 30.5, 33.5, 36.5, 39.5, 42.5, 45.5, 48.5, 3.5, 6.5, 9.5, 12.5, 15.5, 18.5, 21.5, 24.5, 29.5, 32.5, 35.5, 38.5, 41.5, 44.5, 47.5, 50.5, 3.5, 6.5, 9.5, 12.5, 15.5, 18.5, 21.5, 24.5, 27.5, 30.5, 33.5, 36.5, 39.5, 42.5, 45.5, 48.5, 3.5, 6.5, 9.5, 12.5, 15.5, 18.5, 21.5, 24.5, 27.5, 30.5, 33.5, 36.5, 39.5, 42.5, 45.5, 48.5, 3.5, 6.5, 9.5, 12.5, 15.5, 18.5, 21.5, 24.5, 27.5, 30.5, 33.5, 36.5, 39.5, 42.5, 45.5, 48.5, 3.5, 6.5, 9.5, 12.5, 15.5, 18.5, 21.5, 24.5, 27.5, 30.5, 33.5, 36.5, 39.5, 42.5, 45.5, 48.5, 3.5, 6.5, 9.5, 12.5, 15.5, 18.5, 21.5, 24.5, 27.5, 30.5, 33.5, 36.5, 39.5, 42.5, 45.5, 48.5, 3.5, 6.5, 9.5, 12.5, 15.5, 18.5, 21.5, 24.5, 27.5, 30.5, 33.5, 36.5, 39.5, 42.5, 45.5, 48.5, 3.5, 6.5, 9.5, 12.5, 15.5, 18.5, 21.5, 24.5, 55.5, 58.5, 61.5, 64.5, 67.5, 70.5, 73.5, 76.5, 3.5, 6.5, 9.5, 12.5, 15.5, 18.5, 21.5, 24.5, 27.5, 30.5, 33.5, 36.5, 39.5, 42.5, 45.5, 48.5, 3.5, 6.5, 9.5, 12.5, 15.5, 18.5, 21.5, 24.5, 27.5, 30.5, 33.5, 36.5, 39.5, 42.5, 45.5, 48.5, 3.5, 6.5, 9.5, 12.5, 15.5, 18.5, 21.5, 24.5, 27.5, 30.5, 33.5, 36.5, 39.5, 42.5, 45.5, 48.5, 3.5, 6.5, 9.5, 12.5, 15.5, 18.5, 21.5, 24.5, 27.5, 30.5, 33.5, 36.5, 39.5, 42.5, 45.5, 48.5, 3.5, 6.5, 9.5, 12.5, 15.5, 18.5, 21.5, 24.5, 27.5, 30.5, 33.5, 36.5, 39.5, 42.5, 45.5, 48.5, 3.5, 6.5, 9.5, 12.5, 15.5, 18.5, 21.5, 24.5, 27.5, 30.5, 33.5, 36.5, 39.5, 42.5, 45.5, 48.5, 3.5, 6.5, 9.5, 12.5, 15.5, 18.5, 21.5, 24.5]\n"
     ]
    }
   ],
   "source": [
    "### -- ASSIGNMENG 3\n",
    "\n",
    "# -- INITIALIZE COG AND SIMIL_MATRIX\n",
    "\n",
    "import math\n",
    "import numpy as np  \n",
    "import pandas as pd\n",
    "ordersfile = pd.read_csv('orders.csv',header=None)\n",
    "orders = [[int(value) for value in row.dropna()] for w, row in ordersfile.iterrows()]\n",
    "print(orders)\n",
    "\n",
    "df = pd.read_csv('wh_coords.csv')\n",
    "X = df['x'].tolist()\n",
    "Y = df['y'].tolist()\n",
    "print(X)\n",
    "print(Y)\n",
    "\n",
    "\n",
    "max_cap = 20"
   ]
  },
  {
   "cell_type": "code",
   "execution_count": 18,
   "metadata": {},
   "outputs": [],
   "source": [
    "def COG(order):\n",
    "    x = 0\n",
    "    y = 0\n",
    "    for line in order:\n",
    "        x += X[line-1]\n",
    "        y += Y[line-1]\n",
    "    return x/len(order),y/len(order)\n",
    "\n",
    "def euclid_dist(x1,y1,x2,y2):\n",
    "    return math.sqrt((x2-x1)**2 + (y2-y1)**2)"
   ]
  },
  {
   "cell_type": "code",
   "execution_count": null,
   "metadata": {},
   "outputs": [],
   "source": [
    "# -- SEED RULE\n",
    "# FIRST ORDER IS REPRESENTED AS \"RNDM\""
   ]
  },
  {
   "cell_type": "code",
   "execution_count": 19,
   "metadata": {},
   "outputs": [
    {
     "name": "stdout",
     "output_type": "stream",
     "text": [
      "12\n"
     ]
    }
   ],
   "source": [
    "# -- random seed\n",
    "np.random.seed(0)\n",
    "rndm = np.random.randint(0,len(orders))\n",
    "batches = [[orders[rndm]]]\n",
    "count = len(orders[rndm])\n",
    "print(rndm)"
   ]
  },
  {
   "cell_type": "code",
   "execution_count": 22,
   "metadata": {},
   "outputs": [
    {
     "name": "stdout",
     "output_type": "stream",
     "text": [
      "[0, 7, 11]\n",
      "11\n"
     ]
    }
   ],
   "source": [
    "#  LARGEST ORDER\n",
    "num_list_max = max([len(orders[i]) for i in range(len(orders))])\n",
    "target_orders_index = []\n",
    "for i in range(len(orders)):\n",
    "    if len(orders[i]) == num_list_max:\n",
    "        target_orders_index.append(i)\n",
    "print(target_orders_index)\n",
    "if len(target_orders_index)==1:\n",
    "    rndm = target_orders_index[0]\n",
    "else:\n",
    "    rndm = target_orders_index[0]\n",
    "    x,y = COG(orders[rndm])\n",
    "    dis = euclid_dist(x,y,0,0)\n",
    "    for index in target_orders_index[1:]:\n",
    "        x,y = COG(orders[index])\n",
    "        dis1 = euclid_dist(x,y,0,0)\n",
    "        if dis > dis1:\n",
    "            rndm = index\n",
    "            dis = dis1\n",
    "        else:\n",
    "            None       \n",
    "batches = [[orders[rndm]]]\n",
    "count = len(orders[rndm])\n",
    "print(rndm)"
   ]
  },
  {
   "cell_type": "code",
   "execution_count": 27,
   "metadata": {},
   "outputs": [
    {
     "name": "stdout",
     "output_type": "stream",
     "text": [
      "14\n"
     ]
    }
   ],
   "source": [
    "#  Order with furthest COG from depot (located in (0, 0))\n",
    "dis_from_depot = []\n",
    "for order in orders:\n",
    "    x,y = COG(order)\n",
    "    dis_from_depot.append(math.sqrt(x**2+y**2))\n",
    "rndm = dis_from_depot.index(max(dis_from_depot))\n",
    "batches = [[orders[rndm]]]\n",
    "count = len(orders[rndm])\n",
    "print(rndm)\n"
   ]
  },
  {
   "cell_type": "code",
   "execution_count": 28,
   "metadata": {},
   "outputs": [
    {
     "name": "stdout",
     "output_type": "stream",
     "text": [
      "the batch0 [[111], [89], [146, 204, 61, 223, 96, 269], [76, 270, 224, 159, 241, 329], [22, 88, 265, 315], [291, 287]]\n",
      "the batch1 [[182, 179, 276, 208], [264, 334, 179, 212, 261], [56], [237, 275, 80, 21], [28, 233, 297, 83, 128, 145]]\n",
      "the batch2 [[289, 3, 322, 284, 252], [252, 75], [19], [6]]\n",
      "[[[111], [89], [146, 204, 61, 223, 96, 269], [76, 270, 224, 159, 241, 329], [22, 88, 265, 315], [291, 287]], [[182, 179, 276, 208], [264, 334, 179, 212, 261], [56], [237, 275, 80, 21], [28, 233, 297, 83, 128, 145]], [[289, 3, 322, 284, 252], [252, 75], [19], [6]]]\n"
     ]
    }
   ],
   "source": [
    "# -- accompany rule of eu distance\n",
    "simil_matr = np.zeros([len(orders),len(orders)])\n",
    "\n",
    "for i in range(len(orders)):\n",
    "    xi,yi = COG(orders[i])\n",
    "    for j in range(len(orders)):\n",
    "        if i != j:\n",
    "            xj,yj = COG(orders[j])\n",
    "            simil_matr[i,j] = euclid_dist(xi,yi,xj,yj)\n",
    "def most_similar(i,idex):\n",
    "    min_sim = np.inf\n",
    "    j_sim = -1\n",
    "    for j in range(len(orders)):\n",
    "        simil = simil_matr[i,j]\n",
    "        if simil < min_sim and i != j and j in idex:\n",
    "            min_sim = simil\n",
    "            j_sim = j\n",
    "    return j_sim\n",
    "i = rndm\n",
    "to_add = list(range(len(orders)))\n",
    "to_add.remove(i)\n",
    "\n",
    "\n",
    "k = 0\n",
    "while to_add != []:\n",
    "    j = most_similar(i,to_add)\n",
    "    if count + len(orders[j]) <= max_cap:\n",
    "        batches[k].append(orders[j])\n",
    "        to_add.remove(j)\n",
    "        count += len(orders[j])\n",
    "        i = j\n",
    "    else:\n",
    "        k+=1\n",
    "        batches.append([orders[j]])\n",
    "        count = len(orders[j])\n",
    "        to_add.remove(j)\n",
    "        i = j\n",
    "for n, batch in enumerate(batches):\n",
    "    print('the batch%d'%n,batch)\n",
    "print(batches)"
   ]
  },
  {
   "cell_type": "code",
   "execution_count": 83,
   "metadata": {},
   "outputs": [
    {
     "name": "stdout",
     "output_type": "stream",
     "text": [
      "the batch0 [[111], [89], [252, 75], [6], [19], [56], [291, 287], [182, 179, 276, 208], [264, 334, 179, 212, 261]]\n",
      "the batch1 [[237, 275, 80, 21], [289, 3, 322, 284, 252], [28, 233, 297, 83, 128, 145], [22, 88, 265, 315]]\n",
      "the batch2 [[146, 204, 61, 223, 96, 269], [76, 270, 224, 159, 241, 329]]\n",
      "[[[111], [89], [252, 75], [6], [19], [56], [291, 287], [182, 179, 276, 208], [264, 334, 179, 212, 261]], [[237, 275, 80, 21], [289, 3, 322, 284, 252], [28, 233, 297, 83, 128, 145], [22, 88, 265, 315]], [[146, 204, 61, 223, 96, 269], [76, 270, 224, 159, 241, 329]]]\n"
     ]
    }
   ],
   "source": [
    "# Another Accompany Rule\n",
    "\n",
    "def sumof(seed,todo):\n",
    "    out = 0\n",
    "    for i in todo:\n",
    "        x1,y1 = X[i-1],Y[i-1]\n",
    "        dis = []\n",
    "        for j in seed:\n",
    "            x2,y2 = X[j-1],Y[j-1]\n",
    "            dis.append(euclid_dist(x1,y1,x2,y2))\n",
    "        out += min(dis)\n",
    "    return out\n",
    "\n",
    "\n",
    "def who_add(i,idx):\n",
    "    dis = []\n",
    "    for j in idx:\n",
    "        dis.append(sumof(orders[i],orders[j]))\n",
    "    min_idx = dis.index(min(dis))\n",
    "    return idx[min_idx]\n",
    "i = rndm\n",
    "to_add = list(range(len(orders)))\n",
    "to_add.remove(i)\n",
    "\n",
    "\n",
    "k = 0\n",
    "while to_add != []:\n",
    "    j = who_add(i,to_add)\n",
    "    if count + len(orders[j]) <= max_cap:\n",
    "        batches[k].append(orders[j])\n",
    "        to_add.remove(j)\n",
    "        count += len(orders[j])\n",
    "        i = j\n",
    "    else:\n",
    "        k+=1\n",
    "        batches.append([orders[j]])\n",
    "        count = len(orders[j])\n",
    "        to_add.remove(j)\n",
    "        i = j\n",
    "for n, batch in enumerate(batches):\n",
    "    print('the batch%d'%n,batch)\n",
    "print(batches)\n",
    "\n",
    "\n",
    "    \n",
    "\n"
   ]
  },
  {
   "cell_type": "code",
   "execution_count": 29,
   "metadata": {},
   "outputs": [
    {
     "name": "stdout",
     "output_type": "stream",
     "text": [
      "[22, 61, 76, 88, 89, 96, 111, 146, 159, 204, 223, 224, 241, 265, 269, 270, 287, 291, 315, 329]\n",
      "[21, 28, 56, 80, 83, 128, 145, 179, 179, 182, 208, 212, 233, 237, 261, 264, 275, 276, 297, 334]\n",
      "[3, 6, 19, 75, 252, 252, 284, 289, 322]\n",
      "batch 1: 551.5260423290819\n",
      "batch 2: 533.6297789341579\n",
      "batch 3: 235.23084761676432\n",
      "The total distance: 1320.3866688800042\n"
     ]
    }
   ],
   "source": [
    "#  Evaluate perfoemance\n",
    "performance = []\n",
    "for batch in batches:\n",
    "    flattened_list = [item for sublist in batch for item in sublist]\n",
    "    flattened_list = sorted(flattened_list)\n",
    "    print(flattened_list)\n",
    "    onedis = 0\n",
    "    for i in range(len(flattened_list)-1):\n",
    "        x1,y1 = X[flattened_list[i]-1],Y[flattened_list[i]-1]\n",
    "        x2,y2 = X[flattened_list[i+1]-1],Y[flattened_list[i+1]-1]\n",
    "        onedis += euclid_dist(x1,y1,x2,y2)\n",
    "    onedis += euclid_dist(X[flattened_list[0]-1],Y[flattened_list[0]-1],0,0)\n",
    "    onedis += euclid_dist(X[flattened_list[-1]-1],Y[flattened_list[-1]-1],0,0)\n",
    "    performance.append(onedis)\n",
    "for i in range(len(performance)):\n",
    "    print(\"batch %d:\"%(i+1),performance[i])\n",
    "print(\"The total distance:\",sum(performance))\n",
    "\n"
   ]
  },
  {
   "cell_type": "code",
   "execution_count": 32,
   "metadata": {},
   "outputs": [
    {
     "data": {
      "image/png": "[encoded data removed]",
      "text/plain": [
       "<Figure size 640x480 with 1 Axes>"
      ]
     },
     "metadata": {},
     "output_type": "display_data"
    }
   ],
   "source": [
    "import matplotlib.pyplot as plt\n",
    "\n",
    "# Your data\n",
    "data_rule1 = [1300.0243, 1358.1527, 1320.386666]\n",
    "data_rule2 = [1373.3740747128638, 1497.2593359987288, 1256.2662456781773]\n",
    "\n",
    "# Corresponding labels\n",
    "labels_rule1 = ['Seed 1', 'Seed 2', 'Seed 3']\n",
    "labels_rule2 = ['Seed 1', 'Seed 2', 'Seed 3']\n",
    "\n",
    "# Plotting\n",
    "fig, ax = plt.subplots()\n",
    "\n",
    "# Bar width can be adjusted as needed\n",
    "bar_width = 0.35\n",
    "\n",
    "# Bar positions\n",
    "bar_positions_rule1 = range(len(data_rule1))\n",
    "bar_positions_rule2 = [pos + bar_width for pos in bar_positions_rule1]\n",
    "\n",
    "# Create bars\n",
    "ax.bar(bar_positions_rule1, data_rule1, width=bar_width, label='Accompany Rule 1')\n",
    "ax.bar(bar_positions_rule2, data_rule2, width=bar_width, label='Accompany Rule 2')\n",
    "\n",
    "# Set labels and title\n",
    "ax.set_xticks([pos + bar_width/2 for pos in bar_positions_rule1])\n",
    "ax.set_xticklabels(labels_rule1)\n",
    "ax.set_xlabel('Seed')\n",
    "ax.set_ylabel('Values')\n",
    "ax.set_title('Comparison of Accompany Rules')\n",
    "\n",
    "# Show legend\n",
    "ax.legend()\n",
    "\n",
    "# Show the plot\n",
    "plt.show()\n"
   ]
  }
 ],
 "metadata": {
  "kernelspec": {
   "display_name": "my_env",
   "language": "python",
   "name": "python3"
  },
  "language_info": {
   "codemirror_mode": {
    "name": "ipython",
    "version": 3
   },
   "file_extension": ".py",
   "mimetype": "text/x-python",
   "name": "python",
   "nbconvert_exporter": "python",
   "pygments_lexer": "ipython3",
   "version": "3.10.11"
  }
 },
 "nbformat": 4,
 "nbformat_minor": 2
}
